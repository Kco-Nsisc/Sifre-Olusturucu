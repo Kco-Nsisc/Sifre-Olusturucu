{
 "cells": [
  {
   "cell_type": "code",
   "execution_count": 1,
   "metadata": {},
   "outputs": [
    {
     "name": "stdout",
     "output_type": "stream",
     "text": [
      "! 7 0 P v E m =\n"
     ]
    }
   ],
   "source": [
    "import random\n",
    "sifreListesi = []\n",
    "kucukHarfListesi = [\"a\",\"b\",\"c\",\"ç\",\"d\",\"e\",\"f\",\"g\",\"ğ\",\"h\",\"ı\",\"i\",\"j\",\"k\",\"l\",\"m\",\"n\",\"o\",\"ö\",\"p\",\"r\",\"s\",\"ş\",\"t\",\"u\",\"ü\",\"v\",\"y\",\"z\",\"q\",\"w\",\"x\"]\n",
    "buyukHarfListesi = []\n",
    "buyukHarf = \"\"\n",
    "sayiListesi = [\"0\",\"1\",\"2\",\"3\",\"4\",\"5\",\"6\",\"7\",\"8\",\"9\"]\n",
    "ozelKarakterListesi = [\"!\",\">\",\"<\",\"+\",\"$\",\"%\",\"&\",\"/\",\"=\",\"?\",\"*\",\"-\",\"_\",\"|\",\".\",\"€\",\"@\"]\n",
    "for i in kucukHarfListesi:\n",
    "    i = i.upper()\n",
    "    buyukHarfListesi.append(i)\n",
    "ilkKucukHarfSıra = random.randint(0,kucukHarfListesi.index(\"x\"))\n",
    "sonKucukHarfSıra = random.randint(0,kucukHarfListesi.index(\"x\"))\n",
    "if ilkKucukHarfSıra == sonKucukHarfSıra:\n",
    "    sonKucukHarfSıra = random.randint(0,kucukHarfListesi.index(\"x\"))\n",
    "    if ilkKucukHarfSıra == sonKucukHarfSıra:\n",
    "         sonKucukHarfSıra = random.randint(0,kucukHarfListesi.index(\"x\"))\n",
    "ilkBuyukHarfSıra = random.randint(0,buyukHarfListesi.index(\"X\"))\n",
    "sonBuyukHarfSıra = random.randint(0,buyukHarfListesi.index(\"X\"))\n",
    "if ilkBuyukHarfSıra == sonBuyukHarfSıra:\n",
    "    sonBuyukHarfSıra = random.randint(0,buyukHarfListesi.index(\"X\"))\n",
    "    if ilkBuyukHarfSıra == sonBuyukHarf:\n",
    "        sonBuyukHarfSıra = random.randint(0,buyukHarfListesi.index(\"X\"))\n",
    "ilkSayiSıra = random.randint(0,sayiListesi.index(\"9\"))\n",
    "sonSayiSıra = random.randint(0,sayiListesi.index(\"9\"))\n",
    "if ilkSayiSıra == sonSayiSıra:\n",
    "    sonSayiSıra = random.randint(0,sayiListesi.index(\"9\"))\n",
    "    if ilkSayiSıra == sonSayiSıra:\n",
    "        sonSayiSıra = random.randint(0,sayiListesi.index(\"9\"))\n",
    "ilkOzelKarakterSıra = random.randint(0,ozelKarakterListesi.index(\"@\"))\n",
    "sonOzelKarakterSıra = random.randint(0,ozelKarakterListesi.index(\"@\"))\n",
    "if ilkOzelKarakterSıra == sonOzelKarakterSıra:\n",
    "    sonOzelKarakterSıra = random.randint(0,ozelKarakterListesi.index(\"@\"))\n",
    "    if ilkOzelKarakterSıra == sonOzelKarakterSıra:\n",
    "        sonOzelKarakterSıra = random.randint(0,ozelKarakterListesi.index(\"@\"))\n",
    "ilkKucukHarf = kucukHarfListesi[ilkKucukHarfSıra]\n",
    "sonKucukHarf = kucukHarfListesi[sonKucukHarfSıra]\n",
    "ilkBuyukHarf = buyukHarfListesi[ilkBuyukHarfSıra]\n",
    "sonBuyukHarf = buyukHarfListesi[sonBuyukHarfSıra]\n",
    "ilkSayi = sayiListesi[ilkSayiSıra]\n",
    "sonSayi = sayiListesi[sonSayiSıra]\n",
    "ilkOzelKarakter = ozelKarakterListesi[ilkOzelKarakterSıra]\n",
    "sonOzelKarakter = ozelKarakterListesi[sonOzelKarakterSıra]\n",
    "sifreListesi.append(ilkKucukHarf)\n",
    "sifreListesi.append(sonKucukHarf)\n",
    "sifreListesi.append(ilkBuyukHarf)\n",
    "sifreListesi.append(sonBuyukHarf)\n",
    "sifreListesi.append(ilkSayi)\n",
    "sifreListesi.append(sonSayi)\n",
    "sifreListesi.append(ilkOzelKarakter)\n",
    "sifreListesi.append(sonOzelKarakter)\n",
    "random.shuffle(sifreListesi)\n",
    "print(sifreListesi[0],sifreListesi[1],sifreListesi[2],sifreListesi[3],sifreListesi[4],sifreListesi[5],sifreListesi[6],sifreListesi[7],)"
   ]
  }
 ],
 "metadata": {
  "kernelspec": {
   "display_name": "Python 3",
   "language": "python",
   "name": "python3"
  },
  "language_info": {
   "codemirror_mode": {
    "name": "ipython",
    "version": 3
   },
   "file_extension": ".py",
   "mimetype": "text/x-python",
   "name": "python",
   "nbconvert_exporter": "python",
   "pygments_lexer": "ipython3",
   "version": "3.8.5"
  }
 },
 "nbformat": 4,
 "nbformat_minor": 4
}
